{
 "cells": [
  {
   "cell_type": "markdown",
   "metadata": {},
   "source": [
    "<center><h3> Major League Baseball-Data Analysis for salaries of Players for UK team"
   ]
  },
  {
   "cell_type": "markdown",
   "metadata": {},
   "source": [
    "<font size = 2><b>Import Required Libraries"
   ]
  },
  {
   "cell_type": "code",
   "execution_count": 19,
   "metadata": {},
   "outputs": [],
   "source": [
    "import pandas as pd\n",
    "import numpy as np\n",
    "import matplotlib.pyplot as plt #visualization\n",
    "import seaborn as sns #visualization\n",
    "%matplotlib inline \n",
    "sns.set(context=\"notebook\",style=\"white\",palette=\"dark\")\n",
    "plt.style.use('ggplot')\n",
    "\n",
    "# Disable warnings\n",
    "import warnings\n",
    "warnings.filterwarnings('ignore')"
   ]
  },
  {
   "cell_type": "markdown",
   "metadata": {},
   "source": [
    "<font size = 2><b>Read the dataset"
   ]
  },
  {
   "cell_type": "code",
   "execution_count": 20,
   "metadata": {},
   "outputs": [
    {
     "name": "stdout",
     "output_type": "stream",
     "text": [
      "(352, 21)\n"
     ]
    },
    {
     "data": {
      "text/html": [
       "<div>\n",
       "<style scoped>\n",
       "    .dataframe tbody tr th:only-of-type {\n",
       "        vertical-align: middle;\n",
       "    }\n",
       "\n",
       "    .dataframe tbody tr th {\n",
       "        vertical-align: top;\n",
       "    }\n",
       "\n",
       "    .dataframe thead th {\n",
       "        text-align: right;\n",
       "    }\n",
       "</style>\n",
       "<table border=\"1\" class=\"dataframe\">\n",
       "  <thead>\n",
       "    <tr style=\"text-align: right;\">\n",
       "      <th></th>\n",
       "      <th>salary</th>\n",
       "      <th>player_position</th>\n",
       "      <th>race</th>\n",
       "      <th>team_payroll</th>\n",
       "      <th>years_played</th>\n",
       "      <th>games_played</th>\n",
       "      <th>career_at_bats</th>\n",
       "      <th>career_runs</th>\n",
       "      <th>career_hits</th>\n",
       "      <th>career_doubles</th>\n",
       "      <th>...</th>\n",
       "      <th>career_homeruns</th>\n",
       "      <th>career_runs_batted_in</th>\n",
       "      <th>career_batting_average</th>\n",
       "      <th>career_walks</th>\n",
       "      <th>career_strike_outs</th>\n",
       "      <th>career_stolen_bases</th>\n",
       "      <th>career_fielding_percent</th>\n",
       "      <th>white_percent_in_city</th>\n",
       "      <th>black_percent_in_city</th>\n",
       "      <th>hispanic_percent_in_city</th>\n",
       "    </tr>\n",
       "  </thead>\n",
       "  <tbody>\n",
       "    <tr>\n",
       "      <th>0</th>\n",
       "      <td>3375000</td>\n",
       "      <td>shortstop</td>\n",
       "      <td>black</td>\n",
       "      <td>38407380</td>\n",
       "      <td>8</td>\n",
       "      <td>918</td>\n",
       "      <td>3333</td>\n",
       "      <td>407</td>\n",
       "      <td>863</td>\n",
       "      <td>156</td>\n",
       "      <td>...</td>\n",
       "      <td>73</td>\n",
       "      <td>342</td>\n",
       "      <td>259</td>\n",
       "      <td>137</td>\n",
       "      <td>582</td>\n",
       "      <td>133</td>\n",
       "      <td>968</td>\n",
       "      <td>70.27797</td>\n",
       "      <td>18.84423</td>\n",
       "      <td>10.8778</td>\n",
       "    </tr>\n",
       "    <tr>\n",
       "      <th>1</th>\n",
       "      <td>3100000</td>\n",
       "      <td>firstbase</td>\n",
       "      <td>white</td>\n",
       "      <td>38407380</td>\n",
       "      <td>5</td>\n",
       "      <td>751</td>\n",
       "      <td>2807</td>\n",
       "      <td>370</td>\n",
       "      <td>840</td>\n",
       "      <td>148</td>\n",
       "      <td>...</td>\n",
       "      <td>46</td>\n",
       "      <td>355</td>\n",
       "      <td>299</td>\n",
       "      <td>341</td>\n",
       "      <td>228</td>\n",
       "      <td>41</td>\n",
       "      <td>994</td>\n",
       "      <td>70.27797</td>\n",
       "      <td>18.84423</td>\n",
       "      <td>10.8778</td>\n",
       "    </tr>\n",
       "    <tr>\n",
       "      <th>2</th>\n",
       "      <td>2900000</td>\n",
       "      <td>thirdbase</td>\n",
       "      <td>white</td>\n",
       "      <td>38407380</td>\n",
       "      <td>8</td>\n",
       "      <td>1056</td>\n",
       "      <td>3337</td>\n",
       "      <td>405</td>\n",
       "      <td>816</td>\n",
       "      <td>143</td>\n",
       "      <td>...</td>\n",
       "      <td>107</td>\n",
       "      <td>421</td>\n",
       "      <td>245</td>\n",
       "      <td>306</td>\n",
       "      <td>653</td>\n",
       "      <td>15</td>\n",
       "      <td>971</td>\n",
       "      <td>70.27797</td>\n",
       "      <td>18.84423</td>\n",
       "      <td>10.8778</td>\n",
       "    </tr>\n",
       "    <tr>\n",
       "      <th>3</th>\n",
       "      <td>1650000</td>\n",
       "      <td>outfield</td>\n",
       "      <td>black</td>\n",
       "      <td>38407380</td>\n",
       "      <td>12</td>\n",
       "      <td>1196</td>\n",
       "      <td>3603</td>\n",
       "      <td>437</td>\n",
       "      <td>928</td>\n",
       "      <td>19</td>\n",
       "      <td>...</td>\n",
       "      <td>124</td>\n",
       "      <td>541</td>\n",
       "      <td>258</td>\n",
       "      <td>316</td>\n",
       "      <td>725</td>\n",
       "      <td>32</td>\n",
       "      <td>977</td>\n",
       "      <td>70.27797</td>\n",
       "      <td>18.84423</td>\n",
       "      <td>10.8778</td>\n",
       "    </tr>\n",
       "    <tr>\n",
       "      <th>4</th>\n",
       "      <td>700000</td>\n",
       "      <td>outfield</td>\n",
       "      <td>black</td>\n",
       "      <td>38407380</td>\n",
       "      <td>17</td>\n",
       "      <td>2032</td>\n",
       "      <td>7489</td>\n",
       "      <td>1136</td>\n",
       "      <td>2145</td>\n",
       "      <td>270</td>\n",
       "      <td>...</td>\n",
       "      <td>40</td>\n",
       "      <td>574</td>\n",
       "      <td>286</td>\n",
       "      <td>416</td>\n",
       "      <td>1098</td>\n",
       "      <td>660</td>\n",
       "      <td>987</td>\n",
       "      <td>70.27797</td>\n",
       "      <td>18.84423</td>\n",
       "      <td>10.8778</td>\n",
       "    </tr>\n",
       "    <tr>\n",
       "      <th>5</th>\n",
       "      <td>695000</td>\n",
       "      <td>outfield</td>\n",
       "      <td>hispanic</td>\n",
       "      <td>38407380</td>\n",
       "      <td>4</td>\n",
       "      <td>394</td>\n",
       "      <td>1293</td>\n",
       "      <td>179</td>\n",
       "      <td>303</td>\n",
       "      <td>51</td>\n",
       "      <td>...</td>\n",
       "      <td>37</td>\n",
       "      <td>141</td>\n",
       "      <td>234</td>\n",
       "      <td>77</td>\n",
       "      <td>358</td>\n",
       "      <td>67</td>\n",
       "      <td>965</td>\n",
       "      <td>70.27797</td>\n",
       "      <td>18.84423</td>\n",
       "      <td>10.8778</td>\n",
       "    </tr>\n",
       "    <tr>\n",
       "      <th>6</th>\n",
       "      <td>275000</td>\n",
       "      <td>catcher</td>\n",
       "      <td>white</td>\n",
       "      <td>38407380</td>\n",
       "      <td>10</td>\n",
       "      <td>432</td>\n",
       "      <td>1005</td>\n",
       "      <td>78</td>\n",
       "      <td>240</td>\n",
       "      <td>35</td>\n",
       "      <td>...</td>\n",
       "      <td>13</td>\n",
       "      <td>95</td>\n",
       "      <td>239</td>\n",
       "      <td>39</td>\n",
       "      <td>140</td>\n",
       "      <td>1</td>\n",
       "      <td>990</td>\n",
       "      <td>70.27797</td>\n",
       "      <td>18.84423</td>\n",
       "      <td>10.8778</td>\n",
       "    </tr>\n",
       "    <tr>\n",
       "      <th>7</th>\n",
       "      <td>235000</td>\n",
       "      <td>shortstop</td>\n",
       "      <td>hispanic</td>\n",
       "      <td>38407380</td>\n",
       "      <td>4</td>\n",
       "      <td>223</td>\n",
       "      <td>491</td>\n",
       "      <td>37</td>\n",
       "      <td>118</td>\n",
       "      <td>16</td>\n",
       "      <td>...</td>\n",
       "      <td>1</td>\n",
       "      <td>29</td>\n",
       "      <td>240</td>\n",
       "      <td>23</td>\n",
       "      <td>62</td>\n",
       "      <td>6</td>\n",
       "      <td>963</td>\n",
       "      <td>70.27797</td>\n",
       "      <td>18.84423</td>\n",
       "      <td>10.8778</td>\n",
       "    </tr>\n",
       "  </tbody>\n",
       "</table>\n",
       "<p>8 rows × 21 columns</p>\n",
       "</div>"
      ],
      "text/plain": [
       "    salary player_position      race  team_payroll  years_played  \\\n",
       "0  3375000       shortstop     black      38407380             8   \n",
       "1  3100000       firstbase     white      38407380             5   \n",
       "2  2900000       thirdbase     white      38407380             8   \n",
       "3  1650000        outfield     black      38407380            12   \n",
       "4   700000        outfield     black      38407380            17   \n",
       "5   695000        outfield  hispanic      38407380             4   \n",
       "6   275000         catcher     white      38407380            10   \n",
       "7   235000       shortstop  hispanic      38407380             4   \n",
       "\n",
       "   games_played  career_at_bats  career_runs  career_hits  career_doubles  \\\n",
       "0           918            3333          407          863             156   \n",
       "1           751            2807          370          840             148   \n",
       "2          1056            3337          405          816             143   \n",
       "3          1196            3603          437          928              19   \n",
       "4          2032            7489         1136         2145             270   \n",
       "5           394            1293          179          303              51   \n",
       "6           432            1005           78          240              35   \n",
       "7           223             491           37          118              16   \n",
       "\n",
       "   ...  career_homeruns  career_runs_batted_in  career_batting_average  \\\n",
       "0  ...               73                    342                     259   \n",
       "1  ...               46                    355                     299   \n",
       "2  ...              107                    421                     245   \n",
       "3  ...              124                    541                     258   \n",
       "4  ...               40                    574                     286   \n",
       "5  ...               37                    141                     234   \n",
       "6  ...               13                     95                     239   \n",
       "7  ...                1                     29                     240   \n",
       "\n",
       "   career_walks  career_strike_outs  career_stolen_bases  \\\n",
       "0           137                 582                  133   \n",
       "1           341                 228                   41   \n",
       "2           306                 653                   15   \n",
       "3           316                 725                   32   \n",
       "4           416                1098                  660   \n",
       "5            77                 358                   67   \n",
       "6            39                 140                    1   \n",
       "7            23                  62                    6   \n",
       "\n",
       "   career_fielding_percent  white_percent_in_city  black_percent_in_city  \\\n",
       "0                      968               70.27797               18.84423   \n",
       "1                      994               70.27797               18.84423   \n",
       "2                      971               70.27797               18.84423   \n",
       "3                      977               70.27797               18.84423   \n",
       "4                      987               70.27797               18.84423   \n",
       "5                      965               70.27797               18.84423   \n",
       "6                      990               70.27797               18.84423   \n",
       "7                      963               70.27797               18.84423   \n",
       "\n",
       "   hispanic_percent_in_city  \n",
       "0                   10.8778  \n",
       "1                   10.8778  \n",
       "2                   10.8778  \n",
       "3                   10.8778  \n",
       "4                   10.8778  \n",
       "5                   10.8778  \n",
       "6                   10.8778  \n",
       "7                   10.8778  \n",
       "\n",
       "[8 rows x 21 columns]"
      ]
     },
     "execution_count": 20,
     "metadata": {},
     "output_type": "execute_result"
    }
   ],
   "source": [
    "df = pd.read_csv(\"mlb.csv\")\n",
    "print(df.shape)\n",
    "df.head(8)"
   ]
  },
  {
   "cell_type": "markdown",
   "metadata": {},
   "source": [
    "<font size = 4><b> Dealing with missing values."
   ]
  },
  {
   "cell_type": "code",
   "execution_count": 21,
   "metadata": {},
   "outputs": [
    {
     "data": {
      "text/html": [
       "<div>\n",
       "<style scoped>\n",
       "    .dataframe tbody tr th:only-of-type {\n",
       "        vertical-align: middle;\n",
       "    }\n",
       "\n",
       "    .dataframe tbody tr th {\n",
       "        vertical-align: top;\n",
       "    }\n",
       "\n",
       "    .dataframe thead th {\n",
       "        text-align: right;\n",
       "    }\n",
       "</style>\n",
       "<table border=\"1\" class=\"dataframe\">\n",
       "  <thead>\n",
       "    <tr style=\"text-align: right;\">\n",
       "      <th></th>\n",
       "      <th>Missing Values</th>\n",
       "    </tr>\n",
       "  </thead>\n",
       "  <tbody>\n",
       "    <tr>\n",
       "      <th>hispanic_percent_in_city</th>\n",
       "      <td>23</td>\n",
       "    </tr>\n",
       "    <tr>\n",
       "      <th>black_percent_in_city</th>\n",
       "      <td>23</td>\n",
       "    </tr>\n",
       "    <tr>\n",
       "      <th>white_percent_in_city</th>\n",
       "      <td>23</td>\n",
       "    </tr>\n",
       "    <tr>\n",
       "      <th>career_homeruns</th>\n",
       "      <td>0</td>\n",
       "    </tr>\n",
       "    <tr>\n",
       "      <th>career_fielding_percent</th>\n",
       "      <td>0</td>\n",
       "    </tr>\n",
       "  </tbody>\n",
       "</table>\n",
       "</div>"
      ],
      "text/plain": [
       "                          Missing Values\n",
       "hispanic_percent_in_city              23\n",
       "black_percent_in_city                 23\n",
       "white_percent_in_city                 23\n",
       "career_homeruns                        0\n",
       "career_fielding_percent                0"
      ]
     },
     "execution_count": 21,
     "metadata": {},
     "output_type": "execute_result"
    }
   ],
   "source": [
    "#The features with missing values\n",
    "total = df.isnull().sum().sort_values(ascending=False)\n",
    "missing_data = pd.DataFrame(total, columns = [\"Missing Values\"])\n",
    "missing_data.head()"
   ]
  },
  {
   "cell_type": "markdown",
   "metadata": {},
   "source": [
    "__Inference:__ The __\"hispanic_percent_in_city\", \"white_percent_in_city\", \"black_percent_in_city\"__ features have 23 missing values, which needs to be filled. We will create an array that contains random numbers, which are calculated based on the mean value of each feature in regards to the standard deviation and is_null."
   ]
  },
  {
   "cell_type": "code",
   "execution_count": 22,
   "metadata": {},
   "outputs": [
    {
     "data": {
      "text/plain": [
       "0"
      ]
     },
     "execution_count": 22,
     "metadata": {},
     "output_type": "execute_result"
    }
   ],
   "source": [
    "## features with missing values\n",
    "df1 = df[[\"hispanic_percent_in_city\", \"black_percent_in_city\", \"white_percent_in_city\"]]\n",
    "for feature in df1:\n",
    "    mean = df[feature].mean()\n",
    "    std = df[feature].std()\n",
    "    is_null = df[feature].isnull().sum()\n",
    "    # Get random numbers between the mean, std and is_null\n",
    "    rand_age = np.random.randint(mean - std, mean + std, size = is_null)\n",
    "    # fill NaN values in each feature column with random values generated\n",
    "    feature_slice = df[feature].copy()\n",
    "    feature_slice[np.isnan(feature_slice)] = rand_age\n",
    "    df[feature] = feature_slice\n",
    "##Check if any column still contain missing values\n",
    "df[feature].isnull().sum()"
   ]
  },
  {
   "cell_type": "markdown",
   "metadata": {},
   "source": [
    "<font size = 4><b> Descriptive statistics "
   ]
  },
  {
   "cell_type": "markdown",
   "metadata": {},
   "source": [
    "A great way to start descriptive analysis is by simply looking at what kind of ranges each feature has and how much they vary around their average values."
   ]
  },
  {
   "cell_type": "code",
   "execution_count": 23,
   "metadata": {},
   "outputs": [
    {
     "data": {
      "text/html": [
       "<style type=\"text/css\">\n",
       "#T_52eaa_row0_col0, #T_52eaa_row1_col0, #T_52eaa_row2_col0, #T_52eaa_row3_col0, #T_52eaa_row4_col0, #T_52eaa_row5_col0, #T_52eaa_row6_col0, #T_52eaa_row7_col0 {\n",
       "  background-color: #66c2a5;\n",
       "  color: #000000;\n",
       "}\n",
       "#T_52eaa_row0_col1, #T_52eaa_row0_col2, #T_52eaa_row0_col3, #T_52eaa_row0_col4, #T_52eaa_row0_col5, #T_52eaa_row0_col6, #T_52eaa_row0_col7, #T_52eaa_row2_col1, #T_52eaa_row2_col2, #T_52eaa_row2_col3, #T_52eaa_row2_col4, #T_52eaa_row2_col5, #T_52eaa_row2_col6, #T_52eaa_row2_col7, #T_52eaa_row3_col1, #T_52eaa_row3_col2, #T_52eaa_row3_col3, #T_52eaa_row3_col4, #T_52eaa_row3_col5, #T_52eaa_row3_col6, #T_52eaa_row3_col7, #T_52eaa_row4_col1, #T_52eaa_row4_col2, #T_52eaa_row4_col3, #T_52eaa_row4_col4, #T_52eaa_row4_col5, #T_52eaa_row4_col6, #T_52eaa_row4_col7, #T_52eaa_row5_col1, #T_52eaa_row5_col2, #T_52eaa_row5_col3, #T_52eaa_row5_col4, #T_52eaa_row5_col5, #T_52eaa_row5_col6, #T_52eaa_row5_col7, #T_52eaa_row6_col1, #T_52eaa_row6_col2, #T_52eaa_row6_col3, #T_52eaa_row6_col4, #T_52eaa_row6_col5, #T_52eaa_row6_col6, #T_52eaa_row6_col7, #T_52eaa_row7_col1, #T_52eaa_row7_col2, #T_52eaa_row7_col3, #T_52eaa_row7_col4, #T_52eaa_row7_col5, #T_52eaa_row7_col6, #T_52eaa_row7_col7 {\n",
       "  background-color: #8da0cb;\n",
       "  color: #f1f1f1;\n",
       "}\n",
       "#T_52eaa_row1_col1, #T_52eaa_row1_col2, #T_52eaa_row1_col3, #T_52eaa_row1_col4, #T_52eaa_row1_col5, #T_52eaa_row1_col6, #T_52eaa_row1_col7 {\n",
       "  background-color: #b3b3b3;\n",
       "  color: #000000;\n",
       "}\n",
       "</style>\n",
       "<table id=\"T_52eaa_\">\n",
       "  <thead>\n",
       "    <tr>\n",
       "      <th class=\"blank level0\" >&nbsp;</th>\n",
       "      <th class=\"col_heading level0 col0\" >count</th>\n",
       "      <th class=\"col_heading level0 col1\" >mean</th>\n",
       "      <th class=\"col_heading level0 col2\" >std</th>\n",
       "      <th class=\"col_heading level0 col3\" >min</th>\n",
       "      <th class=\"col_heading level0 col4\" >25%</th>\n",
       "      <th class=\"col_heading level0 col5\" >50%</th>\n",
       "      <th class=\"col_heading level0 col6\" >75%</th>\n",
       "      <th class=\"col_heading level0 col7\" >max</th>\n",
       "    </tr>\n",
       "  </thead>\n",
       "  <tbody>\n",
       "    <tr>\n",
       "      <th id=\"T_52eaa_level0_row0\" class=\"row_heading level0 row0\" >salary</th>\n",
       "      <td id=\"T_52eaa_row0_col0\" class=\"data row0 col0\" >352.000000</td>\n",
       "      <td id=\"T_52eaa_row0_col1\" class=\"data row0 col1\" >1331514.463068</td>\n",
       "      <td id=\"T_52eaa_row0_col2\" class=\"data row0 col2\" >1383952.340063</td>\n",
       "      <td id=\"T_52eaa_row0_col3\" class=\"data row0 col3\" >109000.000000</td>\n",
       "      <td id=\"T_52eaa_row0_col4\" class=\"data row0 col4\" >252700.000000</td>\n",
       "      <td id=\"T_52eaa_row0_col5\" class=\"data row0 col5\" >675000.000000</td>\n",
       "      <td id=\"T_52eaa_row0_col6\" class=\"data row0 col6\" >2250000.000000</td>\n",
       "      <td id=\"T_52eaa_row0_col7\" class=\"data row0 col7\" >6200000.000000</td>\n",
       "    </tr>\n",
       "    <tr>\n",
       "      <th id=\"T_52eaa_level0_row1\" class=\"row_heading level0 row1\" >team_payroll</th>\n",
       "      <td id=\"T_52eaa_row1_col0\" class=\"data row1 col0\" >352.000000</td>\n",
       "      <td id=\"T_52eaa_row1_col1\" class=\"data row1 col1\" >30773198.946023</td>\n",
       "      <td id=\"T_52eaa_row1_col2\" class=\"data row1 col2\" >8725344.257746</td>\n",
       "      <td id=\"T_52eaa_row1_col3\" class=\"data row1 col3\" >8854000.000000</td>\n",
       "      <td id=\"T_52eaa_row1_col4\" class=\"data row1 col4\" >24557332.000000</td>\n",
       "      <td id=\"T_52eaa_row1_col5\" class=\"data row1 col5\" >34136500.000000</td>\n",
       "      <td id=\"T_52eaa_row1_col6\" class=\"data row1 col6\" >37792000.000000</td>\n",
       "      <td id=\"T_52eaa_row1_col7\" class=\"data row1 col7\" >42866000.000000</td>\n",
       "    </tr>\n",
       "    <tr>\n",
       "      <th id=\"T_52eaa_level0_row2\" class=\"row_heading level0 row2\" >years_played</th>\n",
       "      <td id=\"T_52eaa_row2_col0\" class=\"data row2 col0\" >352.000000</td>\n",
       "      <td id=\"T_52eaa_row2_col1\" class=\"data row2 col1\" >6.309659</td>\n",
       "      <td id=\"T_52eaa_row2_col2\" class=\"data row2 col2\" >3.873810</td>\n",
       "      <td id=\"T_52eaa_row2_col3\" class=\"data row2 col3\" >1.000000</td>\n",
       "      <td id=\"T_52eaa_row2_col4\" class=\"data row2 col4\" >3.000000</td>\n",
       "      <td id=\"T_52eaa_row2_col5\" class=\"data row2 col5\" >6.000000</td>\n",
       "      <td id=\"T_52eaa_row2_col6\" class=\"data row2 col6\" >9.000000</td>\n",
       "      <td id=\"T_52eaa_row2_col7\" class=\"data row2 col7\" >20.000000</td>\n",
       "    </tr>\n",
       "    <tr>\n",
       "      <th id=\"T_52eaa_level0_row3\" class=\"row_heading level0 row3\" >games_played</th>\n",
       "      <td id=\"T_52eaa_row3_col0\" class=\"data row3 col0\" >352.000000</td>\n",
       "      <td id=\"T_52eaa_row3_col1\" class=\"data row3 col1\" >645.423295</td>\n",
       "      <td id=\"T_52eaa_row3_col2\" class=\"data row3 col2\" >536.499990</td>\n",
       "      <td id=\"T_52eaa_row3_col3\" class=\"data row3 col3\" >7.000000</td>\n",
       "      <td id=\"T_52eaa_row3_col4\" class=\"data row3 col4\" >230.000000</td>\n",
       "      <td id=\"T_52eaa_row3_col5\" class=\"data row3 col5\" >518.500000</td>\n",
       "      <td id=\"T_52eaa_row3_col6\" class=\"data row3 col6\" >930.000000</td>\n",
       "      <td id=\"T_52eaa_row3_col7\" class=\"data row3 col7\" >2729.000000</td>\n",
       "    </tr>\n",
       "    <tr>\n",
       "      <th id=\"T_52eaa_level0_row4\" class=\"row_heading level0 row4\" >career_at_bats</th>\n",
       "      <td id=\"T_52eaa_row4_col0\" class=\"data row4 col0\" >352.000000</td>\n",
       "      <td id=\"T_52eaa_row4_col1\" class=\"data row4 col1\" >2155.704545</td>\n",
       "      <td id=\"T_52eaa_row4_col2\" class=\"data row4 col2\" >2013.393716</td>\n",
       "      <td id=\"T_52eaa_row4_col3\" class=\"data row4 col3\" >7.000000</td>\n",
       "      <td id=\"T_52eaa_row4_col4\" class=\"data row4 col4\" >631.500000</td>\n",
       "      <td id=\"T_52eaa_row4_col5\" class=\"data row4 col5\" >1583.000000</td>\n",
       "      <td id=\"T_52eaa_row4_col6\" class=\"data row4 col6\" >3026.000000</td>\n",
       "      <td id=\"T_52eaa_row4_col7\" class=\"data row4 col7\" >10554.000000</td>\n",
       "    </tr>\n",
       "    <tr>\n",
       "      <th id=\"T_52eaa_level0_row5\" class=\"row_heading level0 row5\" >career_runs</th>\n",
       "      <td id=\"T_52eaa_row5_col0\" class=\"data row5 col0\" >352.000000</td>\n",
       "      <td id=\"T_52eaa_row5_col1\" class=\"data row5 col1\" >288.170455</td>\n",
       "      <td id=\"T_52eaa_row5_col2\" class=\"data row5 col2\" >298.500277</td>\n",
       "      <td id=\"T_52eaa_row5_col3\" class=\"data row5 col3\" >1.000000</td>\n",
       "      <td id=\"T_52eaa_row5_col4\" class=\"data row5 col4\" >73.000000</td>\n",
       "      <td id=\"T_52eaa_row5_col5\" class=\"data row5 col5\" >190.500000</td>\n",
       "      <td id=\"T_52eaa_row5_col6\" class=\"data row5 col6\" >405.500000</td>\n",
       "      <td id=\"T_52eaa_row5_col7\" class=\"data row5 col7\" >1570.000000</td>\n",
       "    </tr>\n",
       "    <tr>\n",
       "      <th id=\"T_52eaa_level0_row6\" class=\"row_heading level0 row6\" >career_hits</th>\n",
       "      <td id=\"T_52eaa_row6_col0\" class=\"data row6 col0\" >352.000000</td>\n",
       "      <td id=\"T_52eaa_row6_col1\" class=\"data row6 col1\" >580.889205</td>\n",
       "      <td id=\"T_52eaa_row6_col2\" class=\"data row6 col2\" >571.632472</td>\n",
       "      <td id=\"T_52eaa_row6_col3\" class=\"data row6 col3\" >1.000000</td>\n",
       "      <td id=\"T_52eaa_row6_col4\" class=\"data row6 col4\" >163.000000</td>\n",
       "      <td id=\"T_52eaa_row6_col5\" class=\"data row6 col5\" >416.000000</td>\n",
       "      <td id=\"T_52eaa_row6_col6\" class=\"data row6 col6\" >817.250000</td>\n",
       "      <td id=\"T_52eaa_row6_col7\" class=\"data row6 col7\" >3025.000000</td>\n",
       "    </tr>\n",
       "    <tr>\n",
       "      <th id=\"T_52eaa_level0_row7\" class=\"row_heading level0 row7\" >career_doubles</th>\n",
       "      <td id=\"T_52eaa_row7_col0\" class=\"data row7 col0\" >352.000000</td>\n",
       "      <td id=\"T_52eaa_row7_col1\" class=\"data row7 col1\" >103.267045</td>\n",
       "      <td id=\"T_52eaa_row7_col2\" class=\"data row7 col2\" >103.831374</td>\n",
       "      <td id=\"T_52eaa_row7_col3\" class=\"data row7 col3\" >0.000000</td>\n",
       "      <td id=\"T_52eaa_row7_col4\" class=\"data row7 col4\" >26.000000</td>\n",
       "      <td id=\"T_52eaa_row7_col5\" class=\"data row7 col5\" >70.000000</td>\n",
       "      <td id=\"T_52eaa_row7_col6\" class=\"data row7 col6\" >146.250000</td>\n",
       "      <td id=\"T_52eaa_row7_col7\" class=\"data row7 col7\" >634.000000</td>\n",
       "    </tr>\n",
       "  </tbody>\n",
       "</table>\n"
      ],
      "text/plain": [
       "<pandas.io.formats.style.Styler at 0x15cd0d5a688>"
      ]
     },
     "execution_count": 23,
     "metadata": {},
     "output_type": "execute_result"
    }
   ],
   "source": [
    "# Pandas describe function to get statistical insights of numerical data.\n",
    "df.iloc[:,0:10].describe().T.style.background_gradient(cmap='Set2',low =0.4,high=0.1,axis=0)"
   ]
  },
  {
   "cell_type": "markdown",
   "metadata": {},
   "source": [
    "__Inference:__ \\\n",
    "This instantly provide us some information about the average salary of players in dataset. We can see that, on average, player earns __1.33 GBP annually__ annualy.While, the __maximum salary__ of any player is __6.2 million GBP.__"
   ]
  },
  {
   "cell_type": "markdown",
   "metadata": {},
   "source": [
    "<font size = 4><B> Descriptive Analysis using Visualisation\n"
   ]
  },
  {
   "cell_type": "markdown",
   "metadata": {},
   "source": [
    "Now, We need to check, do Black and White Players have difference in average salary? To get this insight, we will use  Boxplots."
   ]
  },
  {
   "cell_type": "code",
   "execution_count": 24,
   "metadata": {},
   "outputs": [
    {
     "data": {
      "image/png": "[encoded data removed]",
      "text/plain": [
       "<Figure size 1080x360 with 1 Axes>"
      ]
     },
     "metadata": {},
     "output_type": "display_data"
    }
   ],
   "source": [
    "def race_vs_salary():\n",
    "    \n",
    "    \"\"\"\"\n",
    "    Developing scatterplot using seaborn with Race on x-axis and \n",
    "    salar on y-axis\n",
    "    \"\"\"\n",
    "    fig=plt.figure(figsize=(15,5))\n",
    "\n",
    "    sns.boxplot(x=\"race\", y=\"salary\", data=df, palette=\"husl\")\n",
    "    plt.xlabel(\"Race\",fontsize=14)\n",
    "    plt.ylabel(\"Salary\",fontsize=14)\n",
    "    ## set font size of x and y axis\n",
    "    plt.xticks(fontsize = 16)\n",
    "    plt.yticks(fontsize = 16)\n",
    "    plt.title(\"Race vs Salary of Players\",fontsize=16)\n",
    "race_vs_salary()"
   ]
  },
  {
   "cell_type": "markdown",
   "metadata": {},
   "source": [
    "<font size = 2>__Inference:__ It gives an interesting insight that black players on average have higher salaries while Hispanic Playes have the lowest salaries in our data."
   ]
  },
  {
   "cell_type": "code",
   "execution_count": 7,
   "metadata": {},
   "outputs": [
    {
     "data": {
      "image/png": "[encoded data removed]",
      "text/plain": [
       "<Figure size 1080x1080 with 2 Axes>"
      ]
     },
     "metadata": {},
     "output_type": "display_data"
    }
   ],
   "source": [
    "def regplot():\n",
    "    \"\"\"\"\n",
    "    Developing regplot using seaborn with to viualize the correlation of salary with number\n",
    "    of games played and career runs of players. We'll use the for loop to select each on x-axis variable to plot\n",
    "    against the salary on y-axis\n",
    "    \"\"\"\n",
    "    fig=plt.figure(figsize=(15,15))\n",
    "\n",
    "    for e, column in enumerate([\"games_played\", \"career_runs\"]):\n",
    "        plt.subplot(4, 3, e + 1)\n",
    "        plt.xlabel(column, fontsize = 14)\n",
    "        sns.regplot( data= df, x=column, y='salary', line_kws={\"color\": \"green\"})\n",
    "regplot()       "
   ]
  },
  {
   "cell_type": "markdown",
   "metadata": {},
   "source": [
    "__Inference:__ From the above graphs, we can depict that each of them games_played, career_hits and career_runs have positive linear relationship with the salary of Players. So, these three features will be very important in developing Regression Model for predictive analysis.\n",
    "    "
   ]
  },
  {
   "cell_type": "markdown",
   "metadata": {},
   "source": [
    "<font size = 4><b>Distribution of numerical variables."
   ]
  },
  {
   "cell_type": "code",
   "execution_count": 29,
   "metadata": {},
   "outputs": [
    {
     "data": {
      "image/png": "[encoded data removed]",
      "text/plain": [
       "<Figure size 1440x1440 with 2 Axes>"
      ]
     },
     "metadata": {},
     "output_type": "display_data"
    }
   ],
   "source": [
    "def histplot(feature_1, feature_2):   \n",
    "    \n",
    "    \"\"\"\n",
    "    Histogram to show the distribution of features in our data\n",
    "    \n",
    "    \n",
    "    \"\"\"\n",
    "    plt.figure(figsize=(20, 20))\n",
    "\n",
    "    for e, column in enumerate([feature_1,feature_2]):\n",
    "        plt.subplot(4, 3, e + 1)\n",
    "        sns.distplot(df[column],bins=30,color=\"r\")\n",
    "        \n",
    "        ## set font size of x and y axis\n",
    "        plt.xlabel(column, fontsize=14)\n",
    "        plt.ylabel('Frequency' , fontsize=14)\n",
    "histplot('salary','career_hits')"
   ]
  },
  {
   "cell_type": "markdown",
   "metadata": {},
   "source": [
    "__Inference:__\n",
    "* We can observe that salary of players has not uniform distribution. It means that salary largely varies for different player and majority of players have __less than avaerge salary(1.33 million GPB)__ in our data.\n",
    "* From the plot,it is understood that there is an increasing trend of salary for players with higher career_hits. It makes an obvious sense that players with higher than average perfomance earns the highest salaries. Both of these plots are right skewed."
   ]
  },
  {
   "cell_type": "code",
   "execution_count": 10,
   "metadata": {},
   "outputs": [
    {
     "data": {
      "text/plain": [
       "player_position\n",
       "catcher       8.925192e+05\n",
       "firstbase     1.586781e+06\n",
       "outfield      1.539324e+06\n",
       "secondbase    1.170208e+06\n",
       "shortstop     1.069211e+06\n",
       "thirdbase     1.382647e+06\n",
       "Name: salary, dtype: float64"
      ]
     },
     "execution_count": 10,
     "metadata": {},
     "output_type": "execute_result"
    }
   ],
   "source": [
    "by_year = df.groupby(\"player_position\")[\"salary\"].mean()\n",
    "by_year"
   ]
  },
  {
   "cell_type": "code",
   "execution_count": 11,
   "metadata": {},
   "outputs": [
    {
     "data": {
      "image/png": "[encoded data removed]",
      "text/plain": [
       "<Figure size 576x432 with 1 Axes>"
      ]
     },
     "metadata": {},
     "output_type": "display_data"
    }
   ],
   "source": [
    "def pie_chart(feature, label):\n",
    "    \n",
    "    \"\"\"\n",
    "    Pie-chart to plot the percentage salary of players at different positions\n",
    "    \"\"\"\n",
    "    \n",
    "    fig, ax  = plt.subplots(figsize=(8, 6))\n",
    "    fig.suptitle('Saalary of players at different positions', size = 11, color = \"black\")\n",
    "    ax = plt.pie(feature, labels=label, \n",
    "           autopct='%1.0f%%',\n",
    "           pctdistance=0.9)\n",
    "pie_chart(by_year, by_year.index)"
   ]
  },
  {
   "cell_type": "markdown",
   "metadata": {},
   "source": [
    "<font size = 5><b> <center>THE END"
   ]
  }
 ],
 "metadata": {
  "kernelspec": {
   "display_name": "Python 3 (ipykernel)",
   "language": "python",
   "name": "python3"
  },
  "language_info": {
   "codemirror_mode": {
    "name": "ipython",
    "version": 3
   },
   "file_extension": ".py",
   "mimetype": "text/x-python",
   "name": "python",
   "nbconvert_exporter": "python",
   "pygments_lexer": "ipython3",
   "version": "3.9.7"
  }
 },
 "nbformat": 4,
 "nbformat_minor": 4
}
